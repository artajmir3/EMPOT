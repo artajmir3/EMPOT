{
 "cells": [
  {
   "cell_type": "code",
   "execution_count": 2,
   "metadata": {},
   "outputs": [],
   "source": [
    "import numpy as np\n",
    "import matplotlib as plt\n",
    "import subprocess\n",
    "\n",
    "from Bio.PDB import PDBParser\n",
    "from Bio.PDB import Superimposer"
   ]
  },
  {
   "cell_type": "markdown",
   "metadata": {},
   "source": [
    "### Make PDB Files"
   ]
  },
  {
   "cell_type": "code",
   "execution_count": 1,
   "metadata": {},
   "outputs": [],
   "source": [
    "# Rename the chain name\n",
    "# Define the input and output file paths\n",
    "\n",
    "# f_chain = \"500-30\"\n",
    "# f_chain = \"mcp-2000-20\"\n",
    "# input_file = f\"/u01/project/chenwei-embuild/AlignOT/6n52/6n52-{f_chain}-0.pdb\"\n",
    "# output_file = f\"{input_file}_rechain.pdb\"\n",
    "\n",
    "input_file = \"/u01/project/chenwei-embuild/AlignOT/6n52/6n52-2000-l1.pdb\"\n",
    "output_file = f\"{input_file}_rechain.pdb\"\n",
    "\n",
    "# Open the input and output files\n",
    "with open(input_file, 'r') as infile, open(output_file, 'w') as outfile:\n",
    "    # Iterate through each line in the input file\n",
    "    for line in infile:\n",
    "        # Check if the line starts with \"ATOM\" and has a chain identifier \"A\"\n",
    "        if line.startswith(\"ATOM\") and line[21] == \"A\" or line.startswith(\"TER\") and line[21] == \"A\":\n",
    "            # Replace the chain identifier \"A\" with \"B\"\n",
    "            modified_line = line[:21] + \"B\" + line[22:]\n",
    "            # Write the modified line to the output file\n",
    "            outfile.write(modified_line)\n",
    "        else:\n",
    "            # If not an ATOM line or doesn't have chain \"A\", write as is\n",
    "            outfile.write(line)"
   ]
  },
  {
   "cell_type": "code",
   "execution_count": 16,
   "metadata": {},
   "outputs": [
    {
     "data": {
      "text/plain": [
       "CompletedProcess(args='cat ./AlignOT/6n52/6n52-3000-right1.pdb ./AlignOT/6n52/6n52-3000-left2.pdb_rechain.pdb > ./AlignOT/6n52/6n52_l2r1.pdb', returncode=0)"
      ]
     },
     "execution_count": 16,
     "metadata": {},
     "output_type": "execute_result"
    }
   ],
   "source": [
    "# Concatenate two files\n",
    "\n",
    "import subprocess\n",
    "# Define the terminal command\n",
    "# command = f\"cat ./AlignOT/6n52/6n52-{f_chain}-1.pdb {output_file} > ./AlignOT/6n52/6n52OT-{f_chain}.pdb\"\n",
    "command = f\"cat ./AlignOT/6n52/6n52-3000-right1.pdb ./AlignOT/6n52/6n52-3000-left2.pdb_rechain.pdb > ./AlignOT/6n52/6n52_l2r1.pdb\"\n",
    "\n",
    "# Run the command\n",
    "subprocess.run(command, shell=True)"
   ]
  },
  {
   "cell_type": "code",
   "execution_count": 17,
   "metadata": {},
   "outputs": [],
   "source": [
    "# Remove the \"END\" except the last one\n",
    "\n",
    "def remove_first_end(input_file, output_file):\n",
    "    with open(input_file, 'r') as infile:\n",
    "        lines = infile.readlines()\n",
    "\n",
    "    with open(output_file, 'w') as outfile:\n",
    "        end_found = False\n",
    "        for line in lines:\n",
    "            if not end_found and line.strip() == \"END\":\n",
    "                end_found = True\n",
    "                continue\n",
    "            outfile.write(line)\n",
    "\n",
    "# Usage\n",
    "input_file = f'./AlignOT/6n52/6n52OT-{f_chain}.pdb'\n",
    "output_file = input_file\n",
    "\n",
    "remove_first_end(input_file, output_file)"
   ]
  },
  {
   "cell_type": "code",
   "execution_count": 18,
   "metadata": {},
   "outputs": [
    {
     "data": {
      "text/plain": [
       "CompletedProcess(args='rm ./AlignOT/6n52/6n52-500-30-0.pdb ./AlignOT/6n52/6n52-500-30-0_rechain.pdb ./AlignOT/6n52/6n52-500-30-1.pdb', returncode=0)"
      ]
     },
     "execution_count": 18,
     "metadata": {},
     "output_type": "execute_result"
    }
   ],
   "source": [
    "# Delete unusefull files\n",
    "command = f\"rm ./AlignOT/6n52/6n52-{f_chain}-0.pdb ./AlignOT/6n52/6n52-{f_chain}-0_rechain.pdb ./AlignOT/6n52/6n52-{f_chain}-1.pdb\"\n",
    "\n",
    "# Run the command\n",
    "subprocess.run(command, shell=True)"
   ]
  },
  {
   "cell_type": "code",
   "execution_count": null,
   "metadata": {},
   "outputs": [],
   "source": []
  },
  {
   "cell_type": "markdown",
   "metadata": {},
   "source": [
    "### Load PDB Structures\n"
   ]
  },
  {
   "cell_type": "code",
   "execution_count": 4,
   "metadata": {},
   "outputs": [
    {
     "name": "stdout",
     "output_type": "stream",
     "text": [
      "Ref:  /u01/project/chenwei-empot/5t5h.cif\n",
      "Predicted:  \"/u01/project/chenwei-empot/5t5h.cif\"\n"
     ]
    }
   ],
   "source": [
    "# # pdb name\n",
    "# pdb_name = \"6n52\"\n",
    "# custom_name = \"m_mcp\"\n",
    "\n",
    "# Load the reference and predicted structures\n",
    "# ref_path = f\"/u01/project/chenwei-empot/5t5h.cif\"\n",
    "# pred_path = f\"/u01/project/chenwei-embuild/embuild_docker/outputs/{pdb_name}\"\n",
    "\n",
    "reference_pdb = f\"/u01/project/chenwei-empot/5t5h.cif\"\n",
    "# paper_pdb = f'{ref_path}/{pdb_name}_paper.pdb'\n",
    "# af_pdb = f\"/u01/project/chenwei-embuild/embuild_docker/pdbs/6n52/6n52_h/6N52_h.pdb\"\n",
    "# fft_pdb = f\"/u01/project/chenwei-embuild/AlignOT/{pdb_name}/{pdb_name}_FFT.pdb\" \n",
    "\n",
    "predicted_pdb = f'\"/u01/project/chenwei-empot/5t5h.cif\"'\n",
    "\n",
    "\n",
    "print(\"Ref: \", reference_pdb)\n",
    "# print(\"FFT: \", fft_pdb)\n",
    "print(\"Predicted: \", predicted_pdb)\n",
    "\n",
    "# print(\"Alphafold: \", af_pdb)"
   ]
  },
  {
   "cell_type": "markdown",
   "metadata": {},
   "source": [
    "### Calculate RMSD & TM-score\n"
   ]
  },
  {
   "cell_type": "code",
   "execution_count": 8,
   "metadata": {},
   "outputs": [
    {
     "name": "stdout",
     "output_type": "stream",
     "text": [
      "Error: Warning! Cannot parse file: \"/u01/project/chenwei-empot/5t5h.cif\". Chain number 0.\n",
      "\n"
     ]
    }
   ],
   "source": [
    "MMalign = '/u01/project/chenwei-empot/MMalign/MMalign'\n",
    "\n",
    "# # Define the command to run\n",
    "# command = [MMalign, reference_pdb, paper_pdb]\n",
    "# command = [MMalign, reference_pdb, fft_pdb]\n",
    "command = [MMalign, reference_pdb, predicted_pdb]\n",
    "\n",
    "\n",
    "# Run the command\n",
    "try:\n",
    "    result = subprocess.run(command, stdout=subprocess.PIPE, stderr=subprocess.PIPE, text=True, check=True)\n",
    "    # Access the standard output of the command\n",
    "    output = result.stdout\n",
    "    # Print or process the output as needed\n",
    "    print(\"MMalign output:\", output)\n",
    "except subprocess.CalledProcessError as e:\n",
    "    # Handle errors if the command fails\n",
    "    print(\"Error:\", e.stderr)"
   ]
  },
  {
   "cell_type": "code",
   "execution_count": 8,
   "metadata": {},
   "outputs": [
    {
     "name": "stdout",
     "output_type": "stream",
     "text": [
      "RMSD: 7.6\n",
      "TM-score: 0.71805\n"
     ]
    }
   ],
   "source": [
    "# Extract RMSD and TM-score\n",
    "rmsd_index = output.index(\"RMSD=\") + 6\n",
    "rmsd_end_index = output.index(\",\", rmsd_index)\n",
    "rmsd = float(output[rmsd_index:rmsd_end_index].strip())\n",
    "\n",
    "tm_score_index = output.index(\"TM-score=\") + 9\n",
    "tm_score_end_index = output.index(\"(\", tm_score_index)\n",
    "tm_score = float(output[tm_score_index:tm_score_end_index].strip())\n",
    "\n",
    "print(\"RMSD:\", rmsd)\n",
    "print(\"TM-score:\", tm_score)"
   ]
  },
  {
   "cell_type": "code",
   "execution_count": null,
   "metadata": {},
   "outputs": [],
   "source": []
  },
  {
   "cell_type": "code",
   "execution_count": null,
   "metadata": {},
   "outputs": [],
   "source": [
    "## FFT (single chain fitting):\n",
    "# RMSD: 6.37\n",
    "# TM-score: 0.68454"
   ]
  },
  {
   "cell_type": "code",
   "execution_count": null,
   "metadata": {},
   "outputs": [],
   "source": [
    "## paper ##\n",
    "# RMSD: 1.38\n",
    "# TM-score: 0.98859\n",
    "\n",
    "## mc_mcp: ##\n",
    "# RMSD: 1.36\n",
    "# TM-score: 0.98903\n",
    "\n",
    "## mc_tighttarget-mcp vs ref ##\n",
    "# RMSD: 1.4\n",
    "# TM-score: 0.98829\n",
    "\n",
    "## mc_widetarget-mcp vs ref ##\n",
    "# RMSD: 1.42 \n",
    "# TM-score:  0.98806\n",
    "\n",
    "## mc_highres-mcp vs ref ##\n",
    "# RMSD: 1.38\n",
    "# TM-score:  0.98867\n",
    "\n",
    "## hc_mcp: ##\n",
    "# RMSD: 1.44\n",
    "# TM-score: 0.98828\n",
    "\n",
    "## m_mcp: ##\n",
    "# RMSD: 2.4\n",
    "# TM-score: 0.96571\n",
    "\n",
    "## h_mcp: ##\n",
    "# RMSD: 4.11\n",
    "# TM-score: 0.90955\n",
    "\n",
    "\n",
    "## monomer_cut vs homomer_cut ##\n",
    "# RMSD: 1.54\n",
    "# TM-score: 0.98913\n",
    "\n",
    "## monomer vs homomer ##\n",
    "# RMSD: 3.98\n",
    "# TM-score: 0.9106\n"
   ]
  },
  {
   "cell_type": "code",
   "execution_count": 7,
   "metadata": {},
   "outputs": [],
   "source": [
    "from spyrmsd import io, rmsd"
   ]
  },
  {
   "cell_type": "code",
   "execution_count": null,
   "metadata": {},
   "outputs": [],
   "source": [
    "# Load reference and predicted structures as RDKit molecules\n",
    "ref = io.load_molecule(reference_pdb)\n",
    "pred = io.rdkit.load_molecule(predicted_pdb)\n",
    "\n",
    "# Perform sequence alignment using Biopython\n",
    "ref_aligned, pred_aligned = spyrmsd.align.sequence_align(ref, pred)\n",
    "\n",
    "# Calculate RMSD using Kabsch algorithm\n",
    "rmsd = spyrmsd.rmsd.kabsch_rmsd(ref_aligned.GetConformer(), pred_aligned.GetConformer())\n",
    "\n",
    "# Print RMSD\n",
    "print(f\"RMSD = {rmsd:.3f} Å\")\n"
   ]
  },
  {
   "cell_type": "code",
   "execution_count": null,
   "metadata": {},
   "outputs": [],
   "source": [
    "reference_pdb, predicted_pdb"
   ]
  },
  {
   "cell_type": "code",
   "execution_count": null,
   "metadata": {},
   "outputs": [],
   "source": []
  }
 ],
 "metadata": {
  "kernelspec": {
   "display_name": "base",
   "language": "python",
   "name": "python3"
  },
  "language_info": {
   "codemirror_mode": {
    "name": "ipython",
    "version": 3
   },
   "file_extension": ".py",
   "mimetype": "text/x-python",
   "name": "python",
   "nbconvert_exporter": "python",
   "pygments_lexer": "ipython3",
   "version": "3.11.4"
  },
  "orig_nbformat": 4
 },
 "nbformat": 4,
 "nbformat_minor": 2
}
